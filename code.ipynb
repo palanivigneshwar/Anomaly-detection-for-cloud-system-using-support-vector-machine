{
  "nbformat": 4,
  "nbformat_minor": 0,
  "metadata": {
    "colab": {
      "name": "Isuck.ipynb",
      "version": "0.3.2",
      "provenance": [],
      "collapsed_sections": [],
      "include_colab_link": true
    },
    "kernelspec": {
      "name": "python3",
      "display_name": "Python 3"
    },
    "accelerator": "GPU"
  },
  "cells": [
    {
      "cell_type": "markdown",
      "metadata": {
        "id": "view-in-github",
        "colab_type": "text"
      },
      "source": [
        "<a href=\"https://colab.research.google.com/github/palanivigneshwar/Anomaly-detection-for-cloud-system-using-support-vector-machine/blob/master/code.ipynb\" target=\"_parent\"><img src=\"https://colab.research.google.com/assets/colab-badge.svg\" alt=\"Open In Colab\"/></a>"
      ]
    },
    {
      "metadata": {
        "id": "4d72fbzT64Bs",
        "colab_type": "code",
        "outputId": "1eea58b2-502e-4948-ac5b-e39cde5d3137",
        "colab": {
          "base_uri": "https://localhost:8080/",
          "height": 34
        }
      },
      "cell_type": "code",
      "source": [
        "from google.colab import drive\n",
        "drive.mount('/content/gdrive')\n",
        "import sys, os\n",
        "import pandas as pd\n",
        "import numpy as np\n",
        "from sklearn.preprocessing import MinMaxScaler\n",
        "from sklearn.linear_model import LogisticRegression\n",
        "from sklearn.ensemble import RandomForestClassifier\n",
        "from sklearn.svm import SVC\n",
        "from matplotlib import style\n",
        "import matplotlib.pyplot as plt\n",
        "from sklearn.model_selection import train_test_split\n",
        "sys.path.append(os.path.abspath(\"../\"))\n",
        "from mlxtend.plotting import plot_decision_regions\n",
        "import matplotlib.gridspec as gs \n",
        "import datetime\n",
        "from sklearn.neighbors import KNeighborsRegressor\n",
        "from sklearn.metrics import accuracy_score\n",
        "%matplotlib inline"
      ],
      "execution_count": 20,
      "outputs": [
        {
          "output_type": "stream",
          "text": [
            "Drive already mounted at /content/gdrive; to attempt to forcibly remount, call drive.mount(\"/content/gdrive\", force_remount=True).\n"
          ],
          "name": "stdout"
        }
      ]
    },
    {
      "metadata": {
        "id": "XfWMwG3lAsON",
        "colab_type": "code",
        "colab": {}
      },
      "cell_type": "code",
      "source": [
        "!pip install -U -q PyDrive\n",
        "from pydrive.auth import GoogleAuth\n",
        "from pydrive.drive import GoogleDrive\n",
        "from google.colab import auth\n",
        "from oauth2client.client import GoogleCredentials\n",
        "# Authenticate and create the PyDrive client.\n",
        "auth.authenticate_user()\n",
        "gauth = GoogleAuth()\n",
        "gauth.credentials = GoogleCredentials.get_application_default()\n",
        "drive = GoogleDrive(gauth)"
      ],
      "execution_count": 0,
      "outputs": []
    },
    {
      "metadata": {
        "id": "k3_nfoMxCw6b",
        "colab_type": "code",
        "outputId": "559a4d0f-1d82-431a-ac4f-c5bbbcf0acf5",
        "colab": {
          "base_uri": "https://localhost:8080/",
          "height": 34
        }
      },
      "cell_type": "code",
      "source": [
        "link='https://drive.google.com/open?id=1thnZ11PxwemRP84tFHjci3n1gNf1tSYl'\n",
        "fluff, id = link.split('=')\n",
        "print (id)"
      ],
      "execution_count": 22,
      "outputs": [
        {
          "output_type": "stream",
          "text": [
            "1thnZ11PxwemRP84tFHjci3n1gNf1tSYl\n"
          ],
          "name": "stdout"
        }
      ]
    },
    {
      "metadata": {
        "id": "KKfV8BgDDQKG",
        "colab_type": "code",
        "colab": {}
      },
      "cell_type": "code",
      "source": [
        "downloaded = drive.CreateFile({'id':id}) \n",
        "downloaded.GetContentFile('20 Percent Training Set.csv')"
      ],
      "execution_count": 0,
      "outputs": []
    },
    {
      "metadata": {
        "id": "pTPHyA0Z7xNe",
        "colab_type": "code",
        "colab": {}
      },
      "cell_type": "code",
      "source": [
        "col=[\"duration\", \"protocol_type\", \"service\", \"flag\", \"src_bytes\",\"dst_bytes\", \"land\", \"wrong_fragment\", \"urgent\", \"hot\", \"num_failed_logins\",\"logged_in\", \"num_compromised\", \"root_shell\", \"su_attempted\", \"num_root\",\"num_file_creations\", \"num_shells\", \"num_access_files\", \"num_outbound_cmds\",\"is_host_login\", \"is_guest_login\", \"count\", \"srv_count\", \"serror_rate\",\"srv_serror_rate\", \"rerror_rate\", \"srv_rerror_rate\", \"same_srv_rate\",\"diff_srv_rate\", \"srv_diff_host_rate\", \"dst_host_count\", \"dst_host_srv_count\",\"dst_host_same_srv_rate\", \"dst_host_diff_srv_rate\", \"dst_host_same_src_port_rate\",\"dst_host_srv_diff_host_rate\", \"dst_host_serror_rate\", \"dst_host_srv_serror_rate\",\"dst_host_rerror_rate\", \"dst_host_srv_rerror_rate\", \"labels\"]\n",
        "att={'normal': 'normal','back': 'DDoS','land': 'DDoS','neptune': 'DDoS','pod': 'DDoS','smurf': 'DDoS','teardrop': 'DDoS','mailbomb': 'DDoS','apache2': 'DDoS','processtable': 'DDoS','udpstorm': 'DDoS','ipsweep': 'Probe','nmap': 'Probe','portsweep': 'Probe','satan': 'Probe','mscan': 'Probe','saint': 'Probe','ftp_write': 'R2L','guess_passwd': 'R2L','imap': 'R2L','multihop': 'R2L','phf': 'R2L','spy': 'R2L','warezclient': 'R2L','warezmaster': 'R2L','sendmail': 'R2L','named': 'R2L','snmpgetattack': 'R2L','snmpguess': 'R2L','xlock': 'R2L','xsnoop': 'R2L','worm': 'R2L','buffer_overflow': 'U2R','loadmodule': 'U2R','perl': 'U2R','rootkit': 'U2R','httptunnel': 'U2R','ps': 'U2R','sqlattack': 'U2R','xterm': 'U2R'}"
      ],
      "execution_count": 0,
      "outputs": []
    },
    {
      "metadata": {
        "id": "V8ePgG5s7zHC",
        "colab_type": "code",
        "colab": {}
      },
      "cell_type": "code",
      "source": [
        "plt.style.use('ggplot')\n",
        "class linsvm(object):\n",
        "    def __init__(self):\n",
        "        self.clas1 = None\n",
        "        self.clas2 = None\n",
        "        self.clas3 = None\n",
        "        self.clas4 = None\n",
        "        self.train = []\n",
        "        self.test = []\n",
        "        self.trainset=[]\n",
        "        self.bin_labels=[]\n",
        "    @staticmethod\n",
        "    def load_data(filepath):\n",
        "        index = [26,25,4,12,39,30,38,6,5,29,11,22,37,35,8,14,10,34,31,33,27,23]\n",
        "        dataset = pd.read_csv(filepath, names=col, index_col=False)\n",
        "        dataset = dataset.sample(frac=1).reset_index(drop=True)\n",
        "        labels = dataset['labels']\n",
        "        dataset = dataset.iloc[:, index]\n",
        "        nomin = [0]\n",
        "        for num in nomin:\n",
        "            dataset.iloc[:, num] = dataset.iloc[:, num].astype('category')\n",
        "            dataset.iloc[:, num] = dataset.iloc[:, num].cat.codes\n",
        "        scaler = MinMaxScaler(feature_range=(-1,1))\n",
        "        dataset = pd.DataFrame(scaler.fit_transform(dataset), columns=dataset.columns)\n",
        "        return [dataset, labels]\n",
        "\n",
        "    def load_train_data(self, filepath):\n",
        "        self.train = self.load_data(filepath)\n",
        "\n",
        "    def load_test_data(self, filepath):\n",
        "        self.test = self.load_data(filepath)\n",
        "\n",
        "    def train_clas(self):\n",
        "        self.train_set, train_labels = self.train\n",
        "        self.bin_labels = train_labels.apply(lambda x: x if x == 'normal' else 'anomaly')\n",
        "        X_train,X_test,y_train,y_test=train_test_split(self.train_set,self.bin_labels,test_size=0.2,random_state=0)\n",
        "        X=[]\n",
        "        currentDT = datetime.datetime.now()\n",
        "        print (str(currentDT))\n",
        "        self.clas1 = SVC(C=3.0,gamma=\"auto\")\n",
        "        self.clas1.fit(X_train, y_train)\n",
        "        prediction1=self.clas1.predict(X_test)\n",
        "        print(\"Accuracy: {}%\".format(self.clas1.score(X_test, y_test) * 100 ))\n",
        "        X.append(self.clas1.score(X_test, y_test) * 100)\n",
        "        currentDT = datetime.datetime.now()\n",
        "        print (str(currentDT))\n",
        "        self.clas2 = SVC(kernel='linear')\n",
        "        self.clas2.fit(X_train, y_train)\n",
        "        prediction2=self.clas2.predict(X_test)\n",
        "        print(\"Accuracy: {}%\".format(self.clas2.score(X_test, y_test) * 100 ))\n",
        "        X.append(self.clas2.score(X_test, y_test) * 100)\n",
        "        currentDT = datetime.datetime.now()\n",
        "        print (str(currentDT))\n",
        "        self.clas3 = RandomForestClassifier(random_state=0)\n",
        "        self.clas3.fit(X_train, y_train)\n",
        "        prediction3=self.clas3.predict(X_test)\n",
        "        print(\"Accuracy: {}%\".format(self.clas3.score(X_test, y_test) * 100 ))\n",
        "        X.append(self.clas3.score(X_test, y_test) * 100)\n",
        "        currentDT = datetime.datetime.now()\n",
        "        print (str(currentDT))\n",
        "        self.clas4 = LogisticRegression(random_state=0)\n",
        "        self.clas4.fit(X_train, y_train)\n",
        "        prediction4=self.clas4.predict(X_test)\n",
        "        print(\"Accuracy: {}%\".format(self.clas4.score(X_test, y_test) * 100 ))\n",
        "        X.append(self.clas4.score(X_test, y_test) * 100)\n",
        "        currentDT = datetime.datetime.now()\n",
        "        print (str(currentDT))\n",
        "        self.clas5 = KNeighborsRegressor(n_neighbors=5)\n",
        "        self.clas5.fit(X_train, y_train)\n",
        "        prediction5=self.clas4.predict(X_test)\n",
        "        print(\"Accuracy: {}%\".format(accuracy_score(y_test, prediction5) * 100 ))\n",
        "        X.append(accuracy_score(y_test, prediction5) * 100)\n",
        "        currentDT = datetime.datetime.now()\n",
        "        print (str(currentDT))\n",
        "        freq_series = pd.Series.from_array(X)\n",
        "        plt.figure(figsize=(12, 8))\n",
        "        ax = freq_series.plot(kind='bar')\n",
        "        ax.set_title('Bar Graph')\n",
        "        ax.set_xlabel('Accuracy')\n",
        "        ax.set_ylabel('Frequency')\n",
        "        ax.set_xticklabels(X)\n",
        "        rects = ax.patches\n",
        "        labels = [\"RBF SVM\",\"Linear SVM\",\"Random Forest\",\"Logistic Regression\",\"K Nearest Neighbour\"]\n",
        "\n",
        "        for rect, label in zip(rects, labels):\n",
        "            height = rect.get_height()\n",
        "            ax.text(rect.get_x() + rect.get_width() / 2, height + 5, label,\n",
        "                    ha='center', va='bottom')"
      ],
      "execution_count": 0,
      "outputs": []
    },
    {
      "metadata": {
        "id": "bW1zhP-K72g9",
        "colab_type": "code",
        "outputId": "4a859183-b6a5-4ebc-bca5-618276fb7f23",
        "colab": {
          "base_uri": "https://localhost:8080/",
          "height": 71
        }
      },
      "cell_type": "code",
      "source": [
        "mytr=linsvm()\n",
        "mytr.load_train_data('20 Percent Training Set.csv')"
      ],
      "execution_count": 26,
      "outputs": [
        {
          "output_type": "stream",
          "text": [
            "/usr/local/lib/python3.6/dist-packages/sklearn/preprocessing/data.py:334: DataConversionWarning: Data with input dtype int8, int64, float64 were all converted to float64 by MinMaxScaler.\n",
            "  return self.partial_fit(X, y)\n"
          ],
          "name": "stderr"
        }
      ]
    },
    {
      "metadata": {
        "id": "2MGpUx5U88Y6",
        "colab_type": "code",
        "outputId": "8c452821-f5cd-421e-9518-691bd9bfc6d4",
        "colab": {
          "base_uri": "https://localhost:8080/",
          "height": 874
        }
      },
      "cell_type": "code",
      "source": [
        "mytr.train_clas()"
      ],
      "execution_count": 27,
      "outputs": [
        {
          "output_type": "stream",
          "text": [
            "2019-04-08 19:16:32.450751\n",
            "Accuracy: 96.58662433022425%\n",
            "2019-04-08 19:16:37.507592\n",
            "Accuracy: 93.74875967453859%\n",
            "2019-04-08 19:16:43.900113\n",
            "Accuracy: 99.44433419329232%\n",
            "2019-04-08 19:16:44.098615\n"
          ],
          "name": "stdout"
        },
        {
          "output_type": "stream",
          "text": [
            "/usr/local/lib/python3.6/dist-packages/sklearn/ensemble/forest.py:246: FutureWarning: The default value of n_estimators will change from 10 in version 0.20 to 100 in 0.22.\n",
            "  \"10 in version 0.20 to 100 in 0.22.\", FutureWarning)\n",
            "/usr/local/lib/python3.6/dist-packages/sklearn/linear_model/logistic.py:433: FutureWarning: Default solver will be changed to 'lbfgs' in 0.22. Specify a solver to silence this warning.\n",
            "  FutureWarning)\n"
          ],
          "name": "stderr"
        },
        {
          "output_type": "stream",
          "text": [
            "Accuracy: 93.09386783091882%\n",
            "2019-04-08 19:16:44.403931\n",
            "Accuracy: 93.09386783091882%\n",
            "2019-04-08 19:16:45.173337\n"
          ],
          "name": "stdout"
        },
        {
          "output_type": "display_data",
          "data": {
            "image/png": "[encoded data removed]",
            "text/plain": [
              "<Figure size 864x576 with 1 Axes>"
            ]
          },
          "metadata": {
            "tags": []
          }
        }
      ]
    }
  ]
}